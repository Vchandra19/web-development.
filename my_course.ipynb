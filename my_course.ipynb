{
  "nbformat": 4,
  "nbformat_minor": 0,
  "metadata": {
    "colab": {
      "provenance": []
    },
    "kernelspec": {
      "name": "python3",
      "display_name": "Python 3"
    },
    "language_info": {
      "name": "python"
    }
  },
  "cells": [
    {
      "cell_type": "code",
      "execution_count": null,
      "metadata": {
        "id": "jxj_TYYLlQCZ"
      },
      "outputs": [],
      "source": []
    },
    {
      "cell_type": "markdown",
      "source": [],
      "metadata": {
        "id": "_nX5t0hKlQ1u"
      }
    },
    {
      "cell_type": "markdown",
      "source": [
        "#web devolopment\n"
      ],
      "metadata": {
        "id": "aTLvs2W7mZCU"
      }
    },
    {
      "cell_type": "markdown",
      "source": [
        "1.explain the main componenets of client-server architecture and their functions?\n",
        "   \n",
        "   -->\n",
        "   \n",
        "   components of client-server architecture is-clienr,server,network,database\n",
        "   \n",
        "   * client-it is requests resources from the server,And sends data to the server for processing,And recievies and displays data sent by a server.\n",
        "   \n",
        "   *server-it provides services to clients and processes request from clients and sends data to client.\n",
        "\n",
        "   *network-it connects client and server and, also transffers\n",
        "\n",
        "   *database-it stores,retrives and updates\n",
        "\n",
        "\n",
        "   2.discuss the various career paths available after completing a web devolopment course?\n",
        "\n",
        "   ---->\n",
        "   \n",
        "   * Front-End Developer: Focuses on user interface and visual aspects.\n",
        "\n",
        "* Back-End Developer: Manages server-side logic, databases, and application integration.\n",
        "\n",
        "* Full-Stack Developer: Skilled in both front-end and back-end  development.                                   \n",
        "*Web Designer: Specializes in design and layout of websites.\n",
        "*Web Administrator: Manages web servers and ensures website performance and security.\n",
        "\n",
        "3.describe the role of a web browsers developers tools in web development?\n",
        "\n",
        "-->\n",
        "\n",
        "web browsers like chrome,fire fox,brave etc..\n",
        "\n",
        "tools are HTML,CSS,JAVAscript etc..\n",
        "where-\n",
        "\n",
        " * html stands for hyper text markup language which is used to create web pages\n",
        "\n",
        " *css stands for castecade style sheet which is used to styling and layout of web pages\n",
        "\n",
        " *java script ia a programming language it is used to create dynamic effects,animations and responsive interface.\n",
        "\n",
        "4.what are the advantages of using version control system like git in a development project?\n",
        "\n",
        "-->\n",
        "\n",
        "advantages-\n",
        "\n",
        "* Tracks changes made to code over time.\n",
        "\n",
        "* Enables multiple developers to work on the same project simultaneously.\n",
        "\n",
        "* Provides a backup of the codebase and allows for easy recovery in case of errors or losses.\n",
        "\n",
        "* Supports large and complex projects with many collaborators.etc..\n",
        "\n",
        "\n",
        "5.compare and contrast a text editor and an IDE,highlighting their key features and uses?\n",
        "\n",
        "-->\n",
        "\n",
        "* Text editors focus on editing text, while IDEs provide a comprehensive development environment.\n",
        "\n",
        "* Text editors are generally simpler and more lightweight, while IDEs are more feature-rich and complex.\n",
        "\n",
        "* Text editors are suitable for small projects and quick edits, while IDEs are better suited for large-scale projects and complex applications.\n",
        "\n"
      ],
      "metadata": {
        "id": "KiMCYXNumWj1"
      }
    },
    {
      "cell_type": "code",
      "source": [],
      "metadata": {
        "id": "sp0-9MD2mw0e"
      },
      "execution_count": null,
      "outputs": []
    }
  ]
}